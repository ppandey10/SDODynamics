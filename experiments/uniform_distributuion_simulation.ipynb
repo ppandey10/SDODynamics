{
 "cells": [
  {
   "cell_type": "code",
   "execution_count": null,
   "metadata": {},
   "outputs": [],
   "source": [
    "import os\n",
    "os.environ['http_proxy'] = 'http://proxy1.bgc-jena.mpg.de:3128' \n",
    "os.environ['https_proxy'] = 'http://proxy1.bgc-jena.mpg.de:3128'\n",
    "os.environ['PATH']=os.environ['PATH'] + ':/opt/ohpc/pub/apps/texlive/2023/bin/x86_64-linux/'"
   ]
  },
  {
   "cell_type": "code",
   "execution_count": null,
   "metadata": {},
   "outputs": [],
   "source": [
    "import rebound\n",
    "import numpy as np\n",
    "import time\n",
    "import random"
   ]
  },
  {
   "cell_type": "code",
   "execution_count": null,
   "metadata": {},
   "outputs": [],
   "source": [
    "import matplotlib.pyplot as plt\n",
    "import matplotlib.pylab as pl\n",
    "from matplotlib import rc\n",
    "rc('text', usetex=True)\n",
    "rc('font', size=10)\n",
    "rc('legend', fontsize=8)\n",
    "rc('text.latex', preamble=r'\\usepackage{cmbright}')"
   ]
  },
  {
   "cell_type": "code",
   "execution_count": null,
   "metadata": {},
   "outputs": [],
   "source": [
    "# Define arrays\n",
    "p_values = np.linspace(25, 31, 20) # a has values between 2.1 to 2.5\n",
    "ecc_values = np.linspace(0, 1, 20, endpoint=False)\n",
    "\n",
    "a_values = p_values / (1 - ecc_values)\n",
    "\n",
    "# Create pairs using nested loops and dictionary\n",
    "pairs = [{'p': p, 'ecc': ecc, 'a': a} for ecc in ecc_values for p in p_values for a in a_values]\n",
    "\n",
    "# Extract individual lists for plotting\n",
    "p_list = [pair['p'] for pair in pairs]\n",
    "ecc_list = [pair['ecc'] for pair in pairs]\n",
    "a_list = [pair['a'] for pair in pairs]\n",
    "\n",
    "print(min(p_list), max(p_list))\n",
    "print(min(a_list), max(a_list))\n",
    "# Plotting\n",
    "plt.scatter(p_list, ecc_list, color='blue', alpha=0.5)\n",
    "plt.xlabel('p values')\n",
    "plt.ylabel('ecc values')\n",
    "plt.title('Pairs of p and ecc values')\n",
    "plt.grid(True)\n",
    "plt.show()"
   ]
  },
  {
   "cell_type": "code",
   "execution_count": null,
   "metadata": {},
   "outputs": [],
   "source": [
    "# Create rebound object\n",
    "sim = rebound.Simulation()\n",
    " # Add Sun\n",
    "sim.add('Sun')\n",
    "# Add Jupiter \n",
    "sim.add('Neptune')               \n",
    "# Add massless test particle\n",
    "for i in range(400):\n",
    "    sim.add(a=a_list[i], e=ecc_list[i], inc=random.uniform(0, np.pi)) # random inclination \n",
    "sim.move_to_com()"
   ]
  },
  {
   "cell_type": "code",
   "execution_count": null,
   "metadata": {},
   "outputs": [],
   "source": [
    "sim.particles[400].orbit().a"
   ]
  },
  {
   "cell_type": "code",
   "execution_count": null,
   "metadata": {},
   "outputs": [],
   "source": [
    "sim.status(showAllFields=False)"
   ]
  },
  {
   "cell_type": "code",
   "execution_count": null,
   "metadata": {},
   "outputs": [],
   "source": [
    "%matplotlib inline\n",
    "op = rebound.OrbitPlot(sim, unitlabel=\"[AU]\", color=True, periastron=True)"
   ]
  },
  {
   "cell_type": "code",
   "execution_count": null,
   "metadata": {},
   "outputs": [],
   "source": [
    "sim.dt = sim.particles[1].P*0.05\n",
    "print(sim.dt) \n",
    "\n",
    "# Define integrators\n",
    "integrators = ['mercurius', 'ias15', 'whfast']\n",
    "sim.integrator = integrators[0]"
   ]
  },
  {
   "cell_type": "code",
   "execution_count": null,
   "metadata": {},
   "outputs": [],
   "source": [
    "sim.save_to_file(\"/Net/Groups/BGI/scratch/ppandey/SDODynamics/data/Neptune_UniformDistData.bin\", interval=1e3, delete_file=True)"
   ]
  },
  {
   "cell_type": "code",
   "execution_count": null,
   "metadata": {},
   "outputs": [],
   "source": [
    "# Convert the orbital period in yrs\n",
    "ref_period = (sim.particles[1].P / (2*np.pi))\n",
    "print(f'Neptune period wrt Earth: {ref_period} yrs')\n",
    "\n",
    "start = time.time()\n",
    "# Integrating\n",
    "sim.integrate(1e6)\n",
    "end = time.time()\n",
    "print(end - start)"
   ]
  },
  {
   "cell_type": "code",
   "execution_count": null,
   "metadata": {},
   "outputs": [],
   "source": [
    "sim.status(showAllFields=False)"
   ]
  },
  {
   "cell_type": "code",
   "execution_count": null,
   "metadata": {},
   "outputs": [],
   "source": [
    "data = rebound.Simulationarchive(\"/Net/Groups/BGI/scratch/ppandey/SDODynamics/experiments/uniform.bin\")\n",
    "\n",
    "eccentricity = []\n",
    "time_steps = []\n",
    "\n",
    "# Save the evolution of orbital elements\n",
    "for i, sim in enumerate(data):\n",
    "    eccentricity.append(sim.particles[2].orbit(primary=sim.particles[0]).e)\n",
    "    time_steps.append(np.log10(data[i].t))"
   ]
  },
  {
   "cell_type": "code",
   "execution_count": null,
   "metadata": {},
   "outputs": [],
   "source": [
    "plt.figure(figsize=(6, 4))\n",
    "plt.scatter(time_steps, eccentricity, s=5, c='red')\n",
    "plt.title(r'Eccentricity Evolution')\n",
    "plt.xlabel(r'$t$[yr]')\n",
    "plt.ylabel(r'eccentricity')"
   ]
  }
 ],
 "metadata": {
  "kernelspec": {
   "display_name": "en23",
   "language": "python",
   "name": "kernel_name"
  },
  "language_info": {
   "codemirror_mode": {
    "name": "ipython",
    "version": 3
   },
   "file_extension": ".py",
   "mimetype": "text/x-python",
   "name": "python",
   "nbconvert_exporter": "python",
   "pygments_lexer": "ipython3",
   "version": "3.10.13"
  }
 },
 "nbformat": 4,
 "nbformat_minor": 2
}
